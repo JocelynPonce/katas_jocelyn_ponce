{
 "cells": [
  {
   "cell_type": "code",
   "execution_count": 11,
   "metadata": {},
   "outputs": [
    {
     "name": "stdout",
     "output_type": "stream",
     "text": [
      "628949330\n"
     ]
    }
   ],
   "source": [
    "tierra = 149597870\n",
    "jupiter = 778547200 \n",
    "print(abs(tierra - jupiter))\n"
   ]
  },
  {
   "cell_type": "code",
   "execution_count": 12,
   "metadata": {},
   "outputs": [
    {
     "name": "stdout",
     "output_type": "stream",
     "text": [
      "391198533.93\n"
     ]
    }
   ],
   "source": [
    "tierra_jupiter = 629949330 \n",
    "milla = 0.621\n",
    "print(tierra_jupiter *milla)"
   ]
  },
  {
   "cell_type": "code",
   "execution_count": 35,
   "metadata": {},
   "outputs": [],
   "source": [
    "# Almacenar las entradas del usuario\n",
    "primer_planeta = int(input('Introduzca la distancia del sol para el primer planeta en KM'))\n",
    "segundo_planeta = int(input('Introduzca la distancia desde el sol para el segundo planeta en KM'))"
   ]
  },
  {
   "cell_type": "code",
   "execution_count": 32,
   "metadata": {},
   "outputs": [
    {
     "name": "stdout",
     "output_type": "stream",
     "text": [
      "1622600000\n",
      "1007634600.0\n"
     ]
    }
   ],
   "source": [
    "distancia_km = segundo_planeta - primer_planeta\n",
    "print(abs(distancia_km))\n",
    "\n",
    "distancia_mi = distancia_km * milla\n",
    "print(abs(distancia_mi))"
   ]
  }
 ],
 "metadata": {
  "interpreter": {
   "hash": "1fa562255c82ff28fda002b6f45387fb72a1a1344e1db713170883f36297f2dd"
  },
  "kernelspec": {
   "display_name": "Python 3.10.2 64-bit",
   "language": "python",
   "name": "python3"
  },
  "language_info": {
   "codemirror_mode": {
    "name": "ipython",
    "version": 3
   },
   "file_extension": ".py",
   "mimetype": "text/x-python",
   "name": "python",
   "nbconvert_exporter": "python",
   "pygments_lexer": "ipython3",
   "version": "3.10.2"
  },
  "orig_nbformat": 4
 },
 "nbformat": 4,
 "nbformat_minor": 2
}
